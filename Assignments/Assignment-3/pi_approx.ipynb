{
 "cells": [
  {
   "cell_type": "code",
   "execution_count": 24,
   "metadata": {
    "collapsed": true
   },
   "outputs": [],
   "source": [
    "import numpy as np"
   ]
  },
  {
   "cell_type": "code",
   "execution_count": 25,
   "metadata": {
    "collapsed": false
   },
   "outputs": [],
   "source": [
    "#Defining the part that needs to be summed\n",
    "def rho_part(n):\n",
    "    return (-1) ** (n+1) / (2*n-1)\n",
    "\n",
    "#Vectorizing the summed part\n",
    "rho_vals = np.vectorize(rho_part)\n",
    "\n",
    "#Sum the values and calculate the final sum\n",
    "def rho_sum(n):\n",
    "    return 4*np.sum(rho_vals(list(range(1, n+1))))"
   ]
  },
  {
   "cell_type": "code",
   "execution_count": 26,
   "metadata": {
    "collapsed": true
   },
   "outputs": [],
   "source": [
    "#Defining the part that needs to be summed\n",
    "def tau_part(n):\n",
    "    return 1 / (n**2)\n",
    "\n",
    "#Vectorizing the summed part\n",
    "tau_vals = np.vectorize(tau_part)\n",
    "\n",
    "#Sum the values and calculate the final sum\n",
    "def tau_sum(n):\n",
    "    return (6*np.sum(tau_vals(list(range(1, n+1)))))**(1/2)"
   ]
  },
  {
   "cell_type": "code",
   "execution_count": 27,
   "metadata": {
    "collapsed": true
   },
   "outputs": [],
   "source": [
    "#Defining the part that needs to be summed\n",
    "def mu_part(n):\n",
    "    return 1 / (n**4)\n",
    "\n",
    "#Vectorizing the summed part\n",
    "mu_vals = np.vectorize(mu_part)\n",
    "\n",
    "#Sum the values and calculate the final sum\n",
    "def mu_sum(n):\n",
    "    return (90*np.sum(mu_vals(list(range(1, n+1)))))**(1/4)"
   ]
  },
  {
   "cell_type": "code",
   "execution_count": 28,
   "metadata": {
    "collapsed": false
   },
   "outputs": [
    {
     "name": "stdout",
     "output_type": "stream",
     "text": [
      "When n =      10, rho_n = 3.04183961893\n",
      "When n =      10, tau_n = 3.04936163598\n",
      "When n =      10,  mu_n = 3.14138462247\n",
      "When n =     100, rho_n = 3.13159290356\n",
      "When n =     100, tau_n = 3.13207653181\n",
      "When n =     100,  mu_n = 3.14159241531\n",
      "When n =    1000, rho_n = 3.14059265384\n",
      "When n =    1000, tau_n = 3.14063805621\n",
      "When n =    1000,  mu_n = 3.14159265335\n",
      "When n =   10000, rho_n = 3.14149265359\n",
      "When n =   10000, tau_n = 3.14149716395\n",
      "When n =   10000,  mu_n = 3.14159265359\n",
      "When n =  100000, rho_n = 3.14158265359\n",
      "When n =  100000, tau_n = 3.14158310433\n",
      "When n =  100000,  mu_n = 3.14159265359\n",
      "When n = 1000000, rho_n = 3.14159165359\n",
      "When n = 1000000, tau_n = 3.14159169866\n",
      "When n = 1000000,  mu_n = 3.14159265359\n"
     ]
    }
   ],
   "source": [
    "n_vals = [10, 100, 1000, 10000, 100000, 1000000]\n",
    "\n",
    "for n in n_vals:\n",
    "    print (\"When n = {:7d}, {:>5} = {:.11f}\".format(n, \"rho_n\", rho_sum(n)))\n",
    "    print (\"When n = {:7d}, {:>5} = {:.11f}\".format(n, \"tau_n\", tau_sum(n)))\n",
    "    print (\"When n = {:7d}, {:>5} = {:.11f}\".format(n, \"mu_n\", mu_sum(n)))"
   ]
  },
  {
   "cell_type": "code",
   "execution_count": null,
   "metadata": {
    "collapsed": true
   },
   "outputs": [],
   "source": []
  }
 ],
 "metadata": {
  "kernelspec": {
   "display_name": "Python 3",
   "language": "python",
   "name": "python3"
  },
  "language_info": {
   "codemirror_mode": {
    "name": "ipython",
    "version": 3
   },
   "file_extension": ".py",
   "mimetype": "text/x-python",
   "name": "python",
   "nbconvert_exporter": "python",
   "pygments_lexer": "ipython3",
   "version": "3.4.3"
  }
 },
 "nbformat": 4,
 "nbformat_minor": 0
}
