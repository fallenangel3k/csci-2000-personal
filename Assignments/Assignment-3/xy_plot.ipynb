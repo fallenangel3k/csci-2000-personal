{
 "cells": [
  {
   "cell_type": "code",
   "execution_count": 25,
   "metadata": {
    "collapsed": false
   },
   "outputs": [],
   "source": [
    "#Matthew McCormick\n",
    "#100448975\n",
    "\n",
    "import numpy as np\n",
    "import matplotlib.pyplot as pl\n",
    "\n",
    "content = open('xy_points.dat').read()\n",
    "#Split the x and y values\n",
    "content = content.split('\\n')\n",
    "#Split the number values and convert to float\n",
    "x = np.array(content[0].split(' '), np.float)\n",
    "y = np.array(content[1].split(' '), np.float)\n",
    "\n",
    "\n",
    "pl.scatter(x, y, c='red')\n",
    "\n",
    "#Plot the values where x<-2 and -5<=y<=0\n",
    "pl.scatter(x[np.logical_and((x<-2), np.logical_and(-5<=y, y<=0))], y[np.logical_and((x<-2), np.logical_and(-5<=y, y<=0))], c='blue')\n",
    "\n",
    "#Create an array with the distances from point (Xc,Yc)\n",
    "dist_vals_list = []\n",
    "for i in range(0, len(x)):\n",
    "    dist_vals_list.append(np.sqrt((x[i]**2)+((y[i]-5)**2)))\n",
    "\n",
    "#Convert List to array\n",
    "dist_vals = np.array(dist_vals_list, np.float)\n",
    "\n",
    "pl.scatter(x[(dist_vals<5)], y[(dist_vals<5)], c='green')\n",
    "\n",
    "pl.title('Highlighted Points (100448975)')\n",
    "\n",
    "pl.xlim(-11, 11)\n",
    "pl.ylim(-11, 11)\n",
    "\n",
    "pl.show()"
   ]
  },
  {
   "cell_type": "code",
   "execution_count": null,
   "metadata": {
    "collapsed": true
   },
   "outputs": [],
   "source": []
  }
 ],
 "metadata": {
  "kernelspec": {
   "display_name": "Python 3",
   "language": "python",
   "name": "python3"
  },
  "language_info": {
   "codemirror_mode": {
    "name": "ipython",
    "version": 3
   },
   "file_extension": ".py",
   "mimetype": "text/x-python",
   "name": "python",
   "nbconvert_exporter": "python",
   "pygments_lexer": "ipython3",
   "version": "3.4.3"
  }
 },
 "nbformat": 4,
 "nbformat_minor": 0
}
