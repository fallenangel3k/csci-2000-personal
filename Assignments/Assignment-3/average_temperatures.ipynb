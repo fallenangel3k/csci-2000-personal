{
 "cells": [
  {
   "cell_type": "code",
   "execution_count": 12,
   "metadata": {
    "collapsed": false
   },
   "outputs": [
    {
     "name": "stderr",
     "output_type": "stream",
     "text": [
      "/home/matt/anaconda3/lib/python3.4/site-packages/matplotlib/cbook.py:137: MatplotlibDeprecationWarning: The \"loc\" positional argument to legend is deprecated. Please use the \"loc\" keyword instead.\n",
      "  warnings.warn(message, mplDeprecation, stacklevel=1)\n"
     ]
    }
   ],
   "source": [
    "#Matthew McCormick\n",
    "#100448975\n",
    "\n",
    "import matplotlib.pyplot as plt\n",
    "#Below each dat file is loaded and the values are added to corresponding lists\n",
    "montreal_values = []\n",
    "file = open('montreal_temperature_2012.dat')\n",
    "for line in file:\n",
    "    montreal_values.append(float(line))\n",
    "file.close()\n",
    "\n",
    "vancouver_values = []\n",
    "file = open('vancouver_temperature_2012.dat')\n",
    "for line in file:\n",
    "    vancouver_values.append(float(line))\n",
    "file.close()\n",
    "\n",
    "toronto_values = []\n",
    "file = open('toronto_temperature_2012.dat')\n",
    "for line in file:\n",
    "    toronto_values.append(float(line))\n",
    "file.close()\n",
    "\n",
    "\n",
    "months = ['Jan.', 'Feb.', 'Mrh.', 'Apl.', 'May.', 'Jun.', 'Jly.', 'Aug.', 'Sep.', 'Oct.', 'Nov.', 'Dec.']\n",
    "\n",
    "line1, = plt.plot(montreal_values)\n",
    "line2, = plt.plot(vancouver_values)\n",
    "line3, = plt.plot(toronto_values)\n",
    "plt.title('2012 Average Monthly Temperatures (100448975)')\n",
    "plt.xlabel('Months')\n",
    "plt.ylabel('Average Temperature (oC)')\n",
    "plt.xticks(range(len(months)), months)\n",
    "plt.legend( (line1, line2, line3), ('Montreal', 'Vancouver', 'Toronto'), 'upper right' )\n",
    "plt.show()"
   ]
  },
  {
   "cell_type": "code",
   "execution_count": null,
   "metadata": {
    "collapsed": true
   },
   "outputs": [],
   "source": []
  }
 ],
 "metadata": {
  "kernelspec": {
   "display_name": "Python 3",
   "language": "python",
   "name": "python3"
  },
  "language_info": {
   "codemirror_mode": {
    "name": "ipython",
    "version": 3
   },
   "file_extension": ".py",
   "mimetype": "text/x-python",
   "name": "python",
   "nbconvert_exporter": "python",
   "pygments_lexer": "ipython3",
   "version": "3.4.3"
  }
 },
 "nbformat": 4,
 "nbformat_minor": 0
}
