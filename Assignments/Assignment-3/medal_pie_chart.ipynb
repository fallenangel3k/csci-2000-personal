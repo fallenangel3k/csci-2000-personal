{
 "cells": [
  {
   "cell_type": "code",
   "execution_count": 33,
   "metadata": {
    "collapsed": false
   },
   "outputs": [],
   "source": [
    "#Matthew McCormick\n",
    "#100448975\n",
    "import numpy as np\n",
    "import matplotlib.pyplot as plt\n",
    "\n",
    "colors = ['yellow', 'green', 'turquoise', 'blue', 'purple', 'red', 'orange']\n",
    "\n",
    "countries = ['USA', 'CHN', 'GBR', 'RUS', 'KOR', 'GER', 'FRA', 'ITA', 'HUN', 'AUS', 'OTHER']\n",
    "\n",
    "values = [46, 38, 29, 24, 13, 11, 11, 8, 8, 7, 107]\n",
    "\n",
    "plt.pie(values, labels=countries, colors=colors, shadow=True, startangle=90)\n",
    "plt.title('2012 Olympics Gold Medals (100448975)')\n",
    "                                                                                   \n",
    "plt.show()"
   ]
  },
  {
   "cell_type": "code",
   "execution_count": null,
   "metadata": {
    "collapsed": true
   },
   "outputs": [],
   "source": []
  }
 ],
 "metadata": {
  "kernelspec": {
   "display_name": "Python 3",
   "language": "python",
   "name": "python3"
  },
  "language_info": {
   "codemirror_mode": {
    "name": "ipython",
    "version": 3
   },
   "file_extension": ".py",
   "mimetype": "text/x-python",
   "name": "python",
   "nbconvert_exporter": "python",
   "pygments_lexer": "ipython3",
   "version": "3.4.3"
  }
 },
 "nbformat": 4,
 "nbformat_minor": 0
}
